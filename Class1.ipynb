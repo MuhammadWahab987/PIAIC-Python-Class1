{
 "cells": [
  {
   "cell_type": "code",
   "execution_count": 1,
   "metadata": {},
   "outputs": [
    {
     "name": "stdout",
     "output_type": "stream",
     "text": [
      "Hello World\n"
     ]
    }
   ],
   "source": [
    "print('Hello World')"
   ]
  },
  {
   "cell_type": "code",
   "execution_count": 12,
   "metadata": {},
   "outputs": [
    {
     "name": "stdout",
     "output_type": "stream",
     "text": [
      "Pakistan ZindAbad\n"
     ]
    }
   ],
   "source": [
    "print(\"Pakistan ZindAbad\")"
   ]
  },
  {
   "cell_type": "code",
   "execution_count": 4,
   "metadata": {},
   "outputs": [
    {
     "name": "stdout",
     "output_type": "stream",
     "text": [
      "200\n"
     ]
    }
   ],
   "source": [
    "a=10\n",
    "b=20\n",
    "c=a*b\n",
    "print(c)"
   ]
  },
  {
   "cell_type": "code",
   "execution_count": 3,
   "metadata": {},
   "outputs": [
    {
     "name": "stdout",
     "output_type": "stream",
     "text": [
      "\n",
      "PIAIC ISLAMABAD BATCH3\n",
      "NAME: MUHAMMAD Wahab\n",
      "FATHER NAME: MUHAMMAD Asghar\n",
      "UINVERSITY: Bahria University\n",
      "\n"
     ]
    }
   ],
   "source": [
    "name=\"MUHAMMAD Wahab\"\n",
    "fatherName=\"MUHAMMAD Asghar\"\n",
    "university=\"Bahria University\"\n",
    "\n",
    "message=\"\"\"\n",
    "PIAIC ISLAMABAD BATCH3\n",
    "NAME: {}\n",
    "FATHER NAME: {}\n",
    "UINVERSITY: {}\n",
    "\"\"\".format(name,fatherName,university)\n",
    "print(message)\n"
   ]
  },
  {
   "cell_type": "code",
   "execution_count": 13,
   "metadata": {},
   "outputs": [
    {
     "name": "stdout",
     "output_type": "stream",
     "text": [
      "\n",
      "    PIAIC ISLAMABAD BATCH3\n",
      "    NAME: MUHAMMAD\n",
      "    FATHER NAME: Wahab\n",
      "    UINVERSITY: Bahria University\n",
      "    \n",
      "\n",
      "    PIAIC ISLAMABAD BATCH3\n",
      "    NAME: MUHAMMAD\n",
      "    FATHER NAME: Asghar\n",
      "    UINVERSITY: Bahria University\n",
      "    \n",
      "\n",
      "    PIAIC ISLAMABAD BATCH3\n",
      "    NAME: MUHAMMAD\n",
      "    FATHER NAME: Dawood\n",
      "    UINVERSITY: Bahria University\n",
      "    \n",
      "\n",
      "    PIAIC ISLAMABAD BATCH3\n",
      "    NAME: Dawood\n",
      "    FATHER NAME: Bhatti\n",
      "    UINVERSITY: Bahria University\n",
      "    \n"
     ]
    }
   ],
   "source": [
    "name=[\"MUHAMMAD\",\"MUHAMMAD\",\"MUHAMMAD\",\"Dawood\"]\n",
    "fatherName=[\"Wahab\",\"Asghar\",\"Dawood\",\"Bhatti\"]\n",
    "university=\"Bahria University\"\n",
    "\n",
    "for i in range(0,len(name)):\n",
    "    message=\"\"\"\n",
    "    PIAIC ISLAMABAD BATCH3\n",
    "    NAME: {}\n",
    "    FATHER NAME: {}\n",
    "    UINVERSITY: {}\n",
    "    \"\"\".format(name[i],fatherName[i],university)\n",
    "    print(message)\n"
   ]
  },
  {
   "cell_type": "code",
   "execution_count": 17,
   "metadata": {},
   "outputs": [
    {
     "name": "stdout",
     "output_type": "stream",
     "text": [
      "Enter Your Name:Irsa\n",
      "Enter Your Father Name:Aman\n",
      "Enter The name of Your University:PMAS\n",
      "\n",
      "PIAIC ISLAMABAD BATCH3\n",
      "NAME:Irsa\n",
      "FATHER NAME:Aman\n",
      "UNIVERSITY:PMAS\n",
      "\n"
     ]
    }
   ],
   "source": [
    "name=input(\"Enter Your Name:\")\n",
    "fatherName=input(\"Enter Your Father Name:\")\n",
    "university=input(\"Enter The name of Your University:\")\n",
    "\n",
    "message=\"\"\"\n",
    "PIAIC ISLAMABAD BATCH3\n",
    "NAME:{}\n",
    "FATHER NAME:{}\n",
    "UNIVERSITY:{}\n",
    "\"\"\".format(name,fatherName,university)\n",
    "print(message)"
   ]
  },
  {
   "cell_type": "code",
   "execution_count": null,
   "metadata": {},
   "outputs": [],
   "source": [
    "        "
   ]
  }
 ],
 "metadata": {
  "kernelspec": {
   "display_name": "Python 3",
   "language": "python",
   "name": "python3"
  },
  "language_info": {
   "codemirror_mode": {
    "name": "ipython",
    "version": 3
   },
   "file_extension": ".py",
   "mimetype": "text/x-python",
   "name": "python",
   "nbconvert_exporter": "python",
   "pygments_lexer": "ipython3",
   "version": "3.7.4"
  }
 },
 "nbformat": 4,
 "nbformat_minor": 2
}
